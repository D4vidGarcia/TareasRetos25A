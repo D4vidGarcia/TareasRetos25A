{
  "nbformat": 4,
  "nbformat_minor": 0,
  "metadata": {
    "colab": {
      "provenance": []
    },
    "kernelspec": {
      "name": "python3",
      "display_name": "Python 3"
    },
    "language_info": {
      "name": "python"
    }
  },
  "cells": [
    {
      "cell_type": "code",
      "source": [
        "!pip install trimesh rtree\n",
        "\n",
        "import numpy as np\n",
        "import trimesh"
      ],
      "metadata": {
        "colab": {
          "base_uri": "https://localhost:8080/"
        },
        "collapsed": true,
        "id": "5sgJxQ_fddxW",
        "outputId": "160072a1-60bf-4ff1-ed6f-f78af765b9ab"
      },
      "execution_count": null,
      "outputs": [
        {
          "output_type": "stream",
          "name": "stdout",
          "text": [
            "Requirement already satisfied: trimesh in /usr/local/lib/python3.11/dist-packages (4.6.4)\n",
            "Collecting rtree\n",
            "  Downloading rtree-1.4.0-py3-none-manylinux2014_x86_64.manylinux_2_17_x86_64.whl.metadata (2.1 kB)\n",
            "Requirement already satisfied: numpy>=1.20 in /usr/local/lib/python3.11/dist-packages (from trimesh) (1.26.4)\n",
            "Downloading rtree-1.4.0-py3-none-manylinux2014_x86_64.manylinux_2_17_x86_64.whl (541 kB)\n",
            "\u001b[2K   \u001b[90m━━━━━━━━━━━━━━━━━━━━━━━━━━━━━━━━━━━━━━━━\u001b[0m \u001b[32m541.1/541.1 kB\u001b[0m \u001b[31m18.7 MB/s\u001b[0m eta \u001b[36m0:00:00\u001b[0m\n",
            "\u001b[?25hInstalling collected packages: rtree\n",
            "Successfully installed rtree-1.4.0\n",
            "Drive already mounted at /content/drive; to attempt to forcibly remount, call drive.mount(\"/content/drive\", force_remount=True).\n"
          ]
        }
      ]
    },
    {
      "cell_type": "code",
      "source": [
        "# Montar Google Drive\n",
        "from google.colab import drive\n",
        "drive.mount('/content/drive')"
      ],
      "metadata": {
        "id": "xVnj7gAufLx1"
      },
      "execution_count": null,
      "outputs": []
    },
    {
      "cell_type": "code",
      "execution_count": null,
      "metadata": {
        "colab": {
          "base_uri": "https://localhost:8080/"
        },
        "id": "ORruwiuwdP3Z",
        "outputId": "ce3e8c67-f8a1-49ba-a01e-fa3594d511da"
      },
      "outputs": [
        {
          "output_type": "stream",
          "name": "stdout",
          "text": [
            "El vector desde el centro de masa hasta la superficie es: [ 9.25223831 16.02534684 18.50447663]\n"
          ]
        }
      ],
      "source": [
        "# Cargar el modelo STL (asegúrate de que 'modelo.stl' esté en el directorio o proporciona la ruta correcta)\n",
        "mesh = trimesh.load('/content/drive/MyDrive/Colab Notebooks/Retos/Monostatic_Body_Release.STL')\n",
        "\n",
        "# Calcular el centro de masa del modelo\n",
        "centro_masa = mesh.center_mass\n",
        "\n",
        "def vector_desde_centro(theta, phi):\n",
        "    \"\"\"\n",
        "    Dada una dirección definida por theta y phi (en radianes),\n",
        "    retorna el vector desde el centro de masa del modelo hasta\n",
        "    el punto en la superficie donde intersecta el rayo.\n",
        "\n",
        "    Parámetros:\n",
        "      theta : ángulo polar (medido desde el eje z positivo)\n",
        "      phi   : ángulo azimutal (en el plano xy, medido desde el eje x positivo)\n",
        "\n",
        "    Retorna:\n",
        "      vector : np.array de tamaño (3,) que va desde el centro de masa\n",
        "               hasta el punto de intersección en la superficie.\n",
        "    \"\"\"\n",
        "    # Convertir coordenadas esféricas a vector unitario en coordenadas cartesianas\n",
        "    # Asumimos:\n",
        "    #   x = sin(theta)*cos(phi)\n",
        "    #   y = sin(theta)*sin(phi)\n",
        "    #   z = cos(theta)\n",
        "    direccion = np.array([\n",
        "        np.sin(theta) * np.cos(phi),\n",
        "        np.sin(theta) * np.sin(phi),\n",
        "        np.cos(theta)\n",
        "    ])\n",
        "\n",
        "    # Lanzar un rayo desde el centro de masa en la dirección calculada\n",
        "    # La función ray.intersects_location retorna:\n",
        "    #  - locations: puntos de intersección\n",
        "    #  - index_ray: índice del rayo (en este caso siempre 0)\n",
        "    #  - index_tri: índice del triángulo intersectado\n",
        "    locations, index_ray, index_tri = mesh.ray.intersects_location(\n",
        "        ray_origins=[centro_masa],\n",
        "        ray_directions=[direccion]\n",
        "    )\n",
        "\n",
        "    # Verificar si se encontró alguna intersección\n",
        "    if len(locations) == 0:\n",
        "        raise ValueError(\"No se encontró intersección con la superficie para la dirección dada.\")\n",
        "\n",
        "    # Si hay múltiples intersecciones, tomar la más cercana (distancia mínima al centro de masa)\n",
        "    distancias = np.linalg.norm(locations - centro_masa, axis=1)\n",
        "    indice_min = np.argmin(distancias)\n",
        "    punto_interseccion = locations[indice_min]\n",
        "\n",
        "    # Retornar el vector desde el centro de masa hasta el punto de intersección\n",
        "    return punto_interseccion - centro_masa\n",
        "\n",
        "# Ejemplo de uso:\n",
        "if __name__ == \"__main__\":\n",
        "    # Ejemplo: theta = 45° (pi/4 radianes), phi = 60° (pi/3 radianes)\n",
        "    theta = np.pi / 4\n",
        "    phi = np.pi / 3\n",
        "\n",
        "    try:\n",
        "        vector_resultado = vector_desde_centro(theta, phi)\n",
        "        print(\"El vector desde el centro de masa hasta la superficie es:\", vector_resultado)\n",
        "    except ValueError as e:\n",
        "        print(e)\n"
      ]
    },
    {
      "cell_type": "code",
      "source": [
        "# Calcular el centro de masa del modelo\n",
        "centro_masa = mesh.center_mass\n",
        "\n",
        "def normal_desde_superficie(theta, phi):\n",
        "    \"\"\"\n",
        "    Dada una dirección definida por theta y phi (en radianes),\n",
        "    lanza un rayo desde el centro de masa en dicha dirección y retorna\n",
        "    el vector normal (unitario) a la superficie en el punto de intersección.\n",
        "\n",
        "    Parámetros:\n",
        "      theta : ángulo polar (medido desde el eje z positivo)\n",
        "      phi   : ángulo azimutal (en el plano xy, medido desde el eje x positivo)\n",
        "\n",
        "    Retorna:\n",
        "      normal : np.array de tamaño (3,) que es el vector normal unitario a la superficie.\n",
        "    \"\"\"\n",
        "    # Convertir coordenadas esféricas a un vector unitario en coordenadas cartesianas\n",
        "    direccion = np.array([\n",
        "        np.sin(theta) * np.cos(phi),\n",
        "        np.sin(theta) * np.sin(phi),\n",
        "        np.cos(theta)\n",
        "    ])\n",
        "\n",
        "    # Lanzar un rayo desde el centro de masa en la dirección calculada\n",
        "    locations, index_ray, index_tri = mesh.ray.intersects_location(\n",
        "        ray_origins=[centro_masa],\n",
        "        ray_directions=[direccion]\n",
        "    )\n",
        "\n",
        "    # Verificar si se encontró alguna intersección\n",
        "    if len(locations) == 0:\n",
        "        raise ValueError(\"No se encontró intersección con la superficie para la dirección dada.\")\n",
        "\n",
        "    # Si hay múltiples intersecciones, se selecciona la más cercana al centro de masa\n",
        "    distancias = np.linalg.norm(locations - centro_masa, axis=1)\n",
        "    indice_min = np.argmin(distancias)\n",
        "\n",
        "    # Obtener el índice del triángulo que se intersecta\n",
        "    tri_idx = index_tri[indice_min]\n",
        "\n",
        "    # Obtener la normal del triángulo (la cual usualmente ya viene normalizada)\n",
        "    normal = mesh.face_normals[tri_idx]\n",
        "    # Asegurarse de que el vector esté normalizado\n",
        "    normal = normal / np.linalg.norm(normal)\n",
        "\n",
        "    return normal\n",
        "\n",
        "# Ejemplo de uso:\n",
        "if __name__ == \"__main__\":\n",
        "    # Ejemplo: theta = 45° (pi/4 radianes), phi = 60° (pi/3 radianes)\n",
        "    theta = np.pi / 4\n",
        "    phi = np.pi / 3\n",
        "\n",
        "    try:\n",
        "        normal_vector = normal_desde_superficie(theta, phi)\n",
        "        print(\"El vector normal a la superficie es:\", normal_vector)\n",
        "        print(\"Magnitud:\", np.linalg.norm(normal_vector))\n",
        "    except ValueError as e:\n",
        "        print(e)\n"
      ],
      "metadata": {
        "colab": {
          "base_uri": "https://localhost:8080/"
        },
        "id": "KVsGYeRNfIEh",
        "outputId": "fcc6ef38-d495-42da-c69e-ef6f7904d694"
      },
      "execution_count": null,
      "outputs": [
        {
          "output_type": "stream",
          "name": "stdout",
          "text": [
            "El vector normal a la superficie es: [0.32518751 0.54714389 0.77128895]\n",
            "Magnitud: 1.0\n"
          ]
        }
      ]
    }
  ]
}